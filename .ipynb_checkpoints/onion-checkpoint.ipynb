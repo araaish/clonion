{
 "cells": [
  {
   "cell_type": "code",
   "execution_count": 41,
   "id": "f7fc230e",
   "metadata": {},
   "outputs": [],
   "source": [
    "CONTAINER_ELEMENT_ID = \"sc-2mtmad-9 bCZgZu\"\n",
    "SINGLE_ELEMENT_ID = \"sc-2mtmad-6 gUmTKZ\"\n",
    "ARTICLE_LINK_ID = \"sc-1out364-0.dPMosf.js_link\"\n",
    "HEADLINE_ID = \"sc-759qgu-0.jkbmu.sc-cw4lnv-6.kOEfWY\"\n",
    "PATH_TO_WEB_DRIVER = \"D:\\\\developer tools\\\\chromedriver_win32\\\\chromedriver.exe\"\n",
    "BUTTON = \"sc-j48i5d-2.cyxSGD\""
   ]
  },
  {
   "cell_type": "code",
   "execution_count": 14,
   "id": "3493c771",
   "metadata": {},
   "outputs": [],
   "source": [
    "import requests\n",
    "from bs4 import BeautifulSoup\n",
    "\n",
    "# Send a GET request to the website\n",
    "url = 'https://www.theonion.com/search?blogId=1636079510&q=&timestamp=1684859354562'\n",
    "response = requests.get(url)"
   ]
  },
  {
   "cell_type": "code",
   "execution_count": 3,
   "id": "0f4173b2",
   "metadata": {},
   "outputs": [
    {
     "name": "stdout",
     "output_type": "stream",
     "text": [
      "OpinionAmerican VoicesOpinionAmerican VoicesNew York City Sinking Due To Weight Of Its SkyscrapersA new study has found that New York City is sinking 1 to 2 millimeters each year in part due to the extraordinary…\n"
     ]
    }
   ],
   "source": [
    "# Parse the HTML content using BeautifulSoup\n",
    "soup = BeautifulSoup(response.text, 'html.parser')\n",
    "\n",
    "# Find the specific HTML elements containing the data you want to extract\n",
    "data = soup.find('div', class_=CONTAINER_ELEMENT_ID).text\n",
    "elements = soup.find_all('div', class_=SINGLE_ELEMENT_ID)\n",
    "\n",
    "# Process and use the extracted data as needed\n",
    "for element in elements:\n",
    "  print(element.text)\n",
    "  break"
   ]
  },
  {
   "cell_type": "code",
   "execution_count": null,
   "id": "be4e80bc",
   "metadata": {},
   "outputs": [],
   "source": []
  },
  {
   "cell_type": "code",
   "execution_count": null,
   "id": "6bffb56f",
   "metadata": {},
   "outputs": [],
   "source": []
  },
  {
   "cell_type": "code",
   "execution_count": null,
   "id": "99322f5f",
   "metadata": {},
   "outputs": [],
   "source": []
  },
  {
   "cell_type": "code",
   "execution_count": null,
   "id": "980054df",
   "metadata": {},
   "outputs": [],
   "source": []
  },
  {
   "cell_type": "code",
   "execution_count": 9,
   "id": "a18ffd65",
   "metadata": {},
   "outputs": [],
   "source": [
    "from selenium import webdriver\n",
    "from selenium.webdriver.common.by import By\n",
    "from selenium.webdriver.support.ui import WebDriverWait\n",
    "from selenium.webdriver.support import expected_conditions as EC"
   ]
  },
  {
   "cell_type": "code",
   "execution_count": 10,
   "id": "b6948b17",
   "metadata": {},
   "outputs": [
    {
     "name": "stderr",
     "output_type": "stream",
     "text": [
      "C:\\Users\\Araaish\\AppData\\Local\\Temp\\ipykernel_9780\\3623725325.py:5: DeprecationWarning: executable_path has been deprecated, please pass in a Service object\n",
      "  driver = webdriver.Chrome(chrome_options = options, executable_path=PATH_TO_WEB_DRIVER)\n",
      "C:\\Users\\Araaish\\AppData\\Local\\Temp\\ipykernel_9780\\3623725325.py:5: DeprecationWarning: use options instead of chrome_options\n",
      "  driver = webdriver.Chrome(chrome_options = options, executable_path=PATH_TO_WEB_DRIVER)\n"
     ]
    }
   ],
   "source": [
    "from selenium.webdriver.chrome.options import Options\n",
    "\n",
    "options = Options()\n",
    "options.binary_location = \"C:\\\\Program Files\\\\Google\\\\Chrome\\\\Application\\\\chrome.exe\"\n",
    "driver = webdriver.Chrome(chrome_options = options, executable_path=PATH_TO_WEB_DRIVER)"
   ]
  },
  {
   "cell_type": "code",
   "execution_count": 29,
   "id": "692290a4",
   "metadata": {},
   "outputs": [],
   "source": [
    "driver.get(url)"
   ]
  },
  {
   "cell_type": "code",
   "execution_count": 33,
   "id": "ec7283ae",
   "metadata": {},
   "outputs": [
    {
     "name": "stdout",
     "output_type": "stream",
     "text": [
      "Meaning Fact: Did You Know?\n",
      "Chick-Fil-A’s First-Ever Restaurant Closes After 56 Years\n",
      "Scientists Link Dwindling Insect Populations To Pale Weird Kid\n",
      "Houseguest Offended After Host Only Offers Rawhide To Dog\n",
      "Police Came In Their Pants As Fast As They Could When They Got Domestic Violence Call\n",
      "Man Worried He Might Have Mentioned Sorcery Too Many Times During Job Interview\n",
      "New Evidence Shows Martin Luther King Never Called Malcolm X A Butterface\n",
      "Voters React To GOP Candidate Vivek Ramaswamy\n",
      "New York City Sinking Due To Weight Of Its Skyscrapers\n",
      "Could You Pass Police De-escalation Training?\n",
      "Shedd Aquarium Would Trade It All For A Single Dog\n",
      "Goofy Beats Ron DeSantis To Death With Crowbar\n",
      "Entire Company Under The Thumb Of Low-Level Employee Who Stayed Sober At Every Happy Hour\n",
      "Michelle Obama Reveals Drone Warfare Played Large Part In Her And Barack’s Psychosexual Relationship\n",
      "Surgeon General Warns Against Becoming So Lonely You Cry A Little When They Wash Your Hair At Salon\n",
      "Jimmy Carter Becomes World’s Heaviest Man At 850 Pounds\n",
      "Americans React To Disney’s Live-Action ‘Little Mermaid’\n",
      "Week In Review: May 21, 2023\n",
      "Senate Freaking Out After Dianne Feinstein Gets Her Hands On Gun\n",
      "Disney Cancels Plans For $1 Billion Florida Campus\n"
     ]
    }
   ],
   "source": [
    "elements = driver.find_elements(By.CLASS_NAME, HEADLINE_ID)  # Replace 'my-div-id' with the specific div ID you want to find\n",
    "\n",
    "# Iterate through the elements\n",
    "for element in elements:\n",
    "    # Perform actions on each element\n",
    "    text = element.text\n",
    "    print(text)"
   ]
  },
  {
   "cell_type": "code",
   "execution_count": 40,
   "id": "60a3a76f",
   "metadata": {},
   "outputs": [
    {
     "name": "stdout",
     "output_type": "stream",
     "text": [
      "THE ONION\n",
      "THE A.V. CLUB\n",
      "DEADSPIN\n",
      "GIZMODO\n",
      "JALOPNIK\n",
      "JEZEBEL\n",
      "KOTAKU\n",
      "QUARTZ\n",
      "THE ROOT\n",
      "THE TAKEOUT\n",
      "\n",
      "HOME\n",
      "LATEST\n",
      "NEWS\n",
      "OPINION\n",
      "LOCAL\n",
      "POLITICS\n",
      "ENTERTAINMENT\n",
      "SPORTS\n",
      "VIDEO\n",
      "\n",
      "\n",
      "\n",
      "\n",
      "\n",
      "\n",
      "\n",
      "\n",
      "\n",
      "\n",
      "Meaning Fact: Did You Know?\n",
      "\n",
      "Chick-Fil-A’s First-Ever Restaurant Closes After 56 Years\n",
      "\n",
      "Scientists Link Dwindling Insect Populations To Pale Weird Kid\n",
      "\n",
      "Houseguest Offended After Host Only Offers Rawhide To Dog\n",
      "\n",
      "Police Came In Their Pants As Fast As They Could When They Got Domestic Violence Call\n",
      "\n",
      "Man Worried He Might Have Mentioned Sorcery Too Many Times During Job Interview\n",
      "\n",
      "New Evidence Shows Martin Luther King Never Called Malcolm X A Butterface\n",
      "\n",
      "Voters React To GOP Candidate Vivek Ramaswamy\n",
      "\n",
      "New York City Sinking Due To Weight Of Its Skyscrapers\n",
      "\n",
      "Could You Pass Police De-escalation Training?\n",
      "\n",
      "Shedd Aquarium Would Trade It All For A Single Dog\n",
      "\n",
      "Goofy Beats Ron DeSantis To Death With Crowbar\n",
      "\n",
      "Entire Company Under The Thumb Of Low-Level Employee Who Stayed Sober At Every Happy Hour\n",
      "\n",
      "Michelle Obama Reveals Drone Warfare Played Large Part In Her And Barack’s Psychosexual Relationship\n",
      "\n",
      "Surgeon General Warns Against Becoming So Lonely You Cry A Little When They Wash Your Hair At Salon\n",
      "\n",
      "Jimmy Carter Becomes World’s Heaviest Man At 850 Pounds\n",
      "\n",
      "Americans React To Disney’s Live-Action ‘Little Mermaid’\n",
      "\n",
      "Week In Review: May 21, 2023\n",
      "\n",
      "Senate Freaking Out After Dianne Feinstein Gets Her Hands On Gun\n",
      "\n",
      "Disney Cancels Plans For $1 Billion Florida Campus\n"
     ]
    }
   ],
   "source": [
    "elements = driver.find_elements(By.CLASS_NAME, ARTICLE_LINK_ID)  # Replace 'my-div-id' with the specific div ID you want to find\n",
    "\n",
    "# Iterate through the elements\n",
    "for element in elements:\n",
    "    # Perform actions on each element\n",
    "    text = element.text\n",
    "    print(text)   "
   ]
  },
  {
   "cell_type": "code",
   "execution_count": null,
   "id": "abdb2f24",
   "metadata": {},
   "outputs": [],
   "source": []
  },
  {
   "cell_type": "code",
   "execution_count": null,
   "id": "c99cb954",
   "metadata": {},
   "outputs": [],
   "source": []
  },
  {
   "cell_type": "code",
   "execution_count": null,
   "id": "23e34dc6",
   "metadata": {},
   "outputs": [],
   "source": []
  },
  {
   "cell_type": "code",
   "execution_count": null,
   "id": "6f94b65e",
   "metadata": {},
   "outputs": [],
   "source": []
  }
 ],
 "metadata": {
  "kernelspec": {
   "display_name": "Python 3 (ipykernel)",
   "language": "python",
   "name": "python3"
  },
  "language_info": {
   "codemirror_mode": {
    "name": "ipython",
    "version": 3
   },
   "file_extension": ".py",
   "mimetype": "text/x-python",
   "name": "python",
   "nbconvert_exporter": "python",
   "pygments_lexer": "ipython3",
   "version": "3.10.11"
  }
 },
 "nbformat": 4,
 "nbformat_minor": 5
}
