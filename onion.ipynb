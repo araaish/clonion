{
 "cells": [
  {
   "cell_type": "code",
   "execution_count": 74,
   "id": "039c530f",
   "metadata": {},
   "outputs": [],
   "source": [
    "CONTAINER_ELEMENT_ID = \"sc-2mtmad-9 bCZgZu\"\n",
    "SINGLE_ELEMENT_ID = \"sc-2mtmad-6 gUmTKZ\"\n",
    "ARTICLE_LINK_ID = \"sc-1out364-0.dPMosf.js_link\"\n",
    "HEADLINE_ID = \"sc-cw4lnv-5.dYIPCV\"\n",
    "PATH_TO_WEB_DRIVER = \"D:\\\\developer tools\\\\chromedriver_win32\\\\chromedriver.exe\"\n",
    "BUTTON = \"sc-j48i5d-2.cyxSGD\""
   ]
  },
  {
   "cell_type": "code",
   "execution_count": 14,
   "id": "91abf171",
   "metadata": {},
   "outputs": [],
   "source": [
    "import requests\n",
    "from bs4 import BeautifulSoup\n",
    "\n",
    "# Send a GET request to the website\n",
    "url = 'https://www.theonion.com/search?blogId=1636079510&q=&timestamp=1684859354562'\n",
    "response = requests.get(url)"
   ]
  },
  {
   "cell_type": "code",
   "execution_count": 3,
   "id": "72680156",
   "metadata": {},
   "outputs": [
    {
     "name": "stdout",
     "output_type": "stream",
     "text": [
      "OpinionAmerican VoicesOpinionAmerican VoicesNew York City Sinking Due To Weight Of Its SkyscrapersA new study has found that New York City is sinking 1 to 2 millimeters each year in part due to the extraordinary…\n"
     ]
    }
   ],
   "source": [
    "# Parse the HTML content using BeautifulSoup\n",
    "soup = BeautifulSoup(response.text, 'html.parser')\n",
    "\n",
    "# Find the specific HTML elements containing the data you want to extract\n",
    "data = soup.find('div', class_=CONTAINER_ELEMENT_ID).text\n",
    "elements = soup.find_all('div', class_=SINGLE_ELEMENT_ID)\n",
    "\n",
    "# Process and use the extracted data as needed\n",
    "for element in elements:\n",
    "  print(element.text)\n",
    "  break"
   ]
  },
  {
   "cell_type": "code",
   "execution_count": null,
   "id": "b6fc2a0e",
   "metadata": {},
   "outputs": [],
   "source": []
  },
  {
   "cell_type": "code",
   "execution_count": null,
   "id": "adb71708",
   "metadata": {},
   "outputs": [],
   "source": []
  },
  {
   "cell_type": "code",
   "execution_count": null,
   "id": "0cb4493d",
   "metadata": {},
   "outputs": [],
   "source": []
  },
  {
   "cell_type": "code",
   "execution_count": null,
   "id": "cb7471c7",
   "metadata": {},
   "outputs": [],
   "source": []
  },
  {
   "cell_type": "code",
   "execution_count": 65,
   "id": "b23b506c",
   "metadata": {},
   "outputs": [],
   "source": [
    "from time import sleep\n",
    "from selenium import webdriver\n",
    "from selenium.webdriver.common.by import By\n",
    "from selenium.webdriver.support.ui import WebDriverWait\n",
    "from selenium.webdriver import ActionChains\n",
    "from selenium.webdriver.support import expected_conditions as EC"
   ]
  },
  {
   "cell_type": "code",
   "execution_count": 52,
   "id": "e1c29161",
   "metadata": {
    "scrolled": true
   },
   "outputs": [
    {
     "name": "stderr",
     "output_type": "stream",
     "text": [
      "C:\\Users\\Araaish\\AppData\\Local\\Temp\\ipykernel_9780\\3623725325.py:5: DeprecationWarning: executable_path has been deprecated, please pass in a Service object\n",
      "  driver = webdriver.Chrome(chrome_options = options, executable_path=PATH_TO_WEB_DRIVER)\n",
      "C:\\Users\\Araaish\\AppData\\Local\\Temp\\ipykernel_9780\\3623725325.py:5: DeprecationWarning: use options instead of chrome_options\n",
      "  driver = webdriver.Chrome(chrome_options = options, executable_path=PATH_TO_WEB_DRIVER)\n"
     ]
    }
   ],
   "source": [
    "from selenium.webdriver.chrome.options import Options\n",
    "\n",
    "options = Options()\n",
    "options.binary_location = \"C:\\\\Program Files\\\\Google\\\\Chrome\\\\Application\\\\chrome.exe\"\n",
    "driver = webdriver.Chrome(chrome_options = options, executable_path=PATH_TO_WEB_DRIVER)"
   ]
  },
  {
   "cell_type": "code",
   "execution_count": 53,
   "id": "5a36ba9f",
   "metadata": {},
   "outputs": [],
   "source": [
    "driver.get(url)"
   ]
  },
  {
   "cell_type": "code",
   "execution_count": 78,
   "id": "b8dd6c6d",
   "metadata": {},
   "outputs": [],
   "source": [
    "elements = driver.find_elements(By.CLASS_NAME, HEADLINE_ID)  # Replace 'my-div-id' with the specific div ID you want to find\n",
    "f = open('headlines.txt', 'a')\n",
    "\n",
    "# Iterate through the elements\n",
    "for element in elements:\n",
    "    # Perform actions on each element\n",
    "    text = element.text\n",
    "    f.write(text)\n",
    "    f.write('\\n')\n",
    "    \n",
    "f.close()"
   ]
  },
  {
   "cell_type": "code",
   "execution_count": 40,
   "id": "8b27540d",
   "metadata": {},
   "outputs": [
    {
     "name": "stdout",
     "output_type": "stream",
     "text": [
      "THE ONION\n",
      "THE A.V. CLUB\n",
      "DEADSPIN\n",
      "GIZMODO\n",
      "JALOPNIK\n",
      "JEZEBEL\n",
      "KOTAKU\n",
      "QUARTZ\n",
      "THE ROOT\n",
      "THE TAKEOUT\n",
      "\n",
      "HOME\n",
      "LATEST\n",
      "NEWS\n",
      "OPINION\n",
      "LOCAL\n",
      "POLITICS\n",
      "ENTERTAINMENT\n",
      "SPORTS\n",
      "VIDEO\n",
      "\n",
      "\n",
      "\n",
      "\n",
      "\n",
      "\n",
      "\n",
      "\n",
      "\n",
      "\n",
      "Meaning Fact: Did You Know?\n",
      "\n",
      "Chick-Fil-A’s First-Ever Restaurant Closes After 56 Years\n",
      "\n",
      "Scientists Link Dwindling Insect Populations To Pale Weird Kid\n",
      "\n",
      "Houseguest Offended After Host Only Offers Rawhide To Dog\n",
      "\n",
      "Police Came In Their Pants As Fast As They Could When They Got Domestic Violence Call\n",
      "\n",
      "Man Worried He Might Have Mentioned Sorcery Too Many Times During Job Interview\n",
      "\n",
      "New Evidence Shows Martin Luther King Never Called Malcolm X A Butterface\n",
      "\n",
      "Voters React To GOP Candidate Vivek Ramaswamy\n",
      "\n",
      "New York City Sinking Due To Weight Of Its Skyscrapers\n",
      "\n",
      "Could You Pass Police De-escalation Training?\n",
      "\n",
      "Shedd Aquarium Would Trade It All For A Single Dog\n",
      "\n",
      "Goofy Beats Ron DeSantis To Death With Crowbar\n",
      "\n",
      "Entire Company Under The Thumb Of Low-Level Employee Who Stayed Sober At Every Happy Hour\n",
      "\n",
      "Michelle Obama Reveals Drone Warfare Played Large Part In Her And Barack’s Psychosexual Relationship\n",
      "\n",
      "Surgeon General Warns Against Becoming So Lonely You Cry A Little When They Wash Your Hair At Salon\n",
      "\n",
      "Jimmy Carter Becomes World’s Heaviest Man At 850 Pounds\n",
      "\n",
      "Americans React To Disney’s Live-Action ‘Little Mermaid’\n",
      "\n",
      "Week In Review: May 21, 2023\n",
      "\n",
      "Senate Freaking Out After Dianne Feinstein Gets Her Hands On Gun\n",
      "\n",
      "Disney Cancels Plans For $1 Billion Florida Campus\n"
     ]
    }
   ],
   "source": [
    "elements = driver.find_elements(By.CLASS_NAME, ARTICLE_LINK_ID)  # Replace 'my-div-id' with the specific div ID you want to find\n",
    "\n",
    "# Iterate through the elements\n",
    "for element in elements:\n",
    "    # Perform actions on each element\n",
    "    text = element.text\n",
    "    print(text)   "
   ]
  },
  {
   "cell_type": "code",
   "execution_count": null,
   "id": "7c59c503",
   "metadata": {},
   "outputs": [],
   "source": []
  },
  {
   "cell_type": "code",
   "execution_count": 66,
   "id": "a36a7474",
   "metadata": {},
   "outputs": [],
   "source": [
    "count = 0\n",
    "while (count < 100):\n",
    "    clickable = driver.find_element(By.CLASS_NAME, BUTTON)\n",
    "    ActionChains(driver).click(clickable).perform()\n",
    "    count+=1\n",
    "    sleep(1)"
   ]
  },
  {
   "cell_type": "code",
   "execution_count": 56,
   "id": "9a002c22",
   "metadata": {},
   "outputs": [],
   "source": [
    "clickable = driver.find_elements(By.CLASS_NAME, BUTTON)\n",
    "if len(clickable) == 0:\n",
    "    print(\"PASS\")"
   ]
  },
  {
   "cell_type": "code",
   "execution_count": 58,
   "id": "9e2a6bcb",
   "metadata": {},
   "outputs": [
    {
     "data": {
      "text/plain": [
       "<selenium.webdriver.remote.webelement.WebElement (session=\"99560ad04bdc58f072908ca2ab4bede4\", element=\"17D0F6E5319D165FF4C5C70AE35F8237_element_110\")>"
      ]
     },
     "execution_count": 58,
     "metadata": {},
     "output_type": "execute_result"
    }
   ],
   "source": []
  },
  {
   "cell_type": "code",
   "execution_count": null,
   "id": "c83b4ec1",
   "metadata": {},
   "outputs": [],
   "source": []
  },
  {
   "cell_type": "code",
   "execution_count": 76,
   "id": "1c58f326",
   "metadata": {},
   "outputs": [],
   "source": [
    "f = open(\"headlines.txt\", \"w\")"
   ]
  },
  {
   "cell_type": "code",
   "execution_count": 77,
   "id": "b74189e2",
   "metadata": {},
   "outputs": [],
   "source": [
    "f.close()"
   ]
  },
  {
   "cell_type": "code",
   "execution_count": null,
   "id": "a7d4c964",
   "metadata": {},
   "outputs": [],
   "source": []
  },
  {
   "cell_type": "code",
   "execution_count": 79,
   "id": "ad36fbd4",
   "metadata": {},
   "outputs": [
    {
     "ename": "WebDriverException",
     "evalue": "Message: disconnected: not connected to DevTools\n  (failed to check if window was closed: disconnected: not connected to DevTools)\n  (Session info: chrome=113.0.5672.127)\nStacktrace:\nBacktrace:\n\tGetHandleVerifier [0x00A98893+48451]\n\t(No symbol) [0x00A2B8A1]\n\t(No symbol) [0x00935058]\n\t(No symbol) [0x00926F0B]\n\t(No symbol) [0x009275CA]\n\t(No symbol) [0x00927568]\n\t(No symbol) [0x0091C0BA]\n\t(No symbol) [0x0091C917]\n\t(No symbol) [0x009822F8]\n\t(No symbol) [0x0097A283]\n\t(No symbol) [0x00957E08]\n\t(No symbol) [0x00958F2D]\n\tGetHandleVerifier [0x00CF8E3A+2540266]\n\tGetHandleVerifier [0x00D38959+2801161]\n\tGetHandleVerifier [0x00D3295C+2776588]\n\tGetHandleVerifier [0x00B22280+612144]\n\t(No symbol) [0x00A34F6C]\n\t(No symbol) [0x00A311D8]\n\t(No symbol) [0x00A312BB]\n\t(No symbol) [0x00A24857]\n\tBaseThreadInitThunk [0x766D7D59+25]\n\tRtlInitializeExceptionChain [0x77B3B74B+107]\n\tRtlClearBits [0x77B3B6CF+191]\n",
     "output_type": "error",
     "traceback": [
      "\u001b[1;31m---------------------------------------------------------------------------\u001b[0m",
      "\u001b[1;31mWebDriverException\u001b[0m                        Traceback (most recent call last)",
      "Cell \u001b[1;32mIn[79], line 1\u001b[0m\n\u001b[1;32m----> 1\u001b[0m \u001b[43mdriver\u001b[49m\u001b[38;5;241;43m.\u001b[39;49m\u001b[43mclose\u001b[49m\u001b[43m(\u001b[49m\u001b[43m)\u001b[49m\n",
      "File \u001b[1;32m~\\AppData\\Local\\Packages\\PythonSoftwareFoundation.Python.3.10_qbz5n2kfra8p0\\LocalCache\\local-packages\\Python310\\site-packages\\selenium\\webdriver\\remote\\webdriver.py:551\u001b[0m, in \u001b[0;36mWebDriver.close\u001b[1;34m(self)\u001b[0m\n\u001b[0;32m    543\u001b[0m \u001b[38;5;28;01mdef\u001b[39;00m \u001b[38;5;21mclose\u001b[39m(\u001b[38;5;28mself\u001b[39m) \u001b[38;5;241m-\u001b[39m\u001b[38;5;241m>\u001b[39m \u001b[38;5;28;01mNone\u001b[39;00m:\n\u001b[0;32m    544\u001b[0m \u001b[38;5;250m    \u001b[39m\u001b[38;5;124;03m\"\"\"Closes the current window.\u001b[39;00m\n\u001b[0;32m    545\u001b[0m \n\u001b[0;32m    546\u001b[0m \u001b[38;5;124;03m    :Usage:\u001b[39;00m\n\u001b[1;32m   (...)\u001b[0m\n\u001b[0;32m    549\u001b[0m \u001b[38;5;124;03m            driver.close()\u001b[39;00m\n\u001b[0;32m    550\u001b[0m \u001b[38;5;124;03m    \"\"\"\u001b[39;00m\n\u001b[1;32m--> 551\u001b[0m     \u001b[38;5;28;43mself\u001b[39;49m\u001b[38;5;241;43m.\u001b[39;49m\u001b[43mexecute\u001b[49m\u001b[43m(\u001b[49m\u001b[43mCommand\u001b[49m\u001b[38;5;241;43m.\u001b[39;49m\u001b[43mCLOSE\u001b[49m\u001b[43m)\u001b[49m\n",
      "File \u001b[1;32m~\\AppData\\Local\\Packages\\PythonSoftwareFoundation.Python.3.10_qbz5n2kfra8p0\\LocalCache\\local-packages\\Python310\\site-packages\\selenium\\webdriver\\remote\\webdriver.py:440\u001b[0m, in \u001b[0;36mWebDriver.execute\u001b[1;34m(self, driver_command, params)\u001b[0m\n\u001b[0;32m    438\u001b[0m response \u001b[38;5;241m=\u001b[39m \u001b[38;5;28mself\u001b[39m\u001b[38;5;241m.\u001b[39mcommand_executor\u001b[38;5;241m.\u001b[39mexecute(driver_command, params)\n\u001b[0;32m    439\u001b[0m \u001b[38;5;28;01mif\u001b[39;00m response:\n\u001b[1;32m--> 440\u001b[0m     \u001b[38;5;28;43mself\u001b[39;49m\u001b[38;5;241;43m.\u001b[39;49m\u001b[43merror_handler\u001b[49m\u001b[38;5;241;43m.\u001b[39;49m\u001b[43mcheck_response\u001b[49m\u001b[43m(\u001b[49m\u001b[43mresponse\u001b[49m\u001b[43m)\u001b[49m\n\u001b[0;32m    441\u001b[0m     response[\u001b[38;5;124m\"\u001b[39m\u001b[38;5;124mvalue\u001b[39m\u001b[38;5;124m\"\u001b[39m] \u001b[38;5;241m=\u001b[39m \u001b[38;5;28mself\u001b[39m\u001b[38;5;241m.\u001b[39m_unwrap_value(response\u001b[38;5;241m.\u001b[39mget(\u001b[38;5;124m\"\u001b[39m\u001b[38;5;124mvalue\u001b[39m\u001b[38;5;124m\"\u001b[39m, \u001b[38;5;28;01mNone\u001b[39;00m))\n\u001b[0;32m    442\u001b[0m     \u001b[38;5;28;01mreturn\u001b[39;00m response\n",
      "File \u001b[1;32m~\\AppData\\Local\\Packages\\PythonSoftwareFoundation.Python.3.10_qbz5n2kfra8p0\\LocalCache\\local-packages\\Python310\\site-packages\\selenium\\webdriver\\remote\\errorhandler.py:245\u001b[0m, in \u001b[0;36mErrorHandler.check_response\u001b[1;34m(self, response)\u001b[0m\n\u001b[0;32m    243\u001b[0m         alert_text \u001b[38;5;241m=\u001b[39m value[\u001b[38;5;124m\"\u001b[39m\u001b[38;5;124malert\u001b[39m\u001b[38;5;124m\"\u001b[39m]\u001b[38;5;241m.\u001b[39mget(\u001b[38;5;124m\"\u001b[39m\u001b[38;5;124mtext\u001b[39m\u001b[38;5;124m\"\u001b[39m)\n\u001b[0;32m    244\u001b[0m     \u001b[38;5;28;01mraise\u001b[39;00m exception_class(message, screen, stacktrace, alert_text)  \u001b[38;5;66;03m# type: ignore[call-arg]  # mypy is not smart enough here\u001b[39;00m\n\u001b[1;32m--> 245\u001b[0m \u001b[38;5;28;01mraise\u001b[39;00m exception_class(message, screen, stacktrace)\n",
      "\u001b[1;31mWebDriverException\u001b[0m: Message: disconnected: not connected to DevTools\n  (failed to check if window was closed: disconnected: not connected to DevTools)\n  (Session info: chrome=113.0.5672.127)\nStacktrace:\nBacktrace:\n\tGetHandleVerifier [0x00A98893+48451]\n\t(No symbol) [0x00A2B8A1]\n\t(No symbol) [0x00935058]\n\t(No symbol) [0x00926F0B]\n\t(No symbol) [0x009275CA]\n\t(No symbol) [0x00927568]\n\t(No symbol) [0x0091C0BA]\n\t(No symbol) [0x0091C917]\n\t(No symbol) [0x009822F8]\n\t(No symbol) [0x0097A283]\n\t(No symbol) [0x00957E08]\n\t(No symbol) [0x00958F2D]\n\tGetHandleVerifier [0x00CF8E3A+2540266]\n\tGetHandleVerifier [0x00D38959+2801161]\n\tGetHandleVerifier [0x00D3295C+2776588]\n\tGetHandleVerifier [0x00B22280+612144]\n\t(No symbol) [0x00A34F6C]\n\t(No symbol) [0x00A311D8]\n\t(No symbol) [0x00A312BB]\n\t(No symbol) [0x00A24857]\n\tBaseThreadInitThunk [0x766D7D59+25]\n\tRtlInitializeExceptionChain [0x77B3B74B+107]\n\tRtlClearBits [0x77B3B6CF+191]\n"
     ]
    }
   ],
   "source": [
    "driver.close()"
   ]
  },
  {
   "cell_type": "code",
   "execution_count": null,
   "id": "c70c9056",
   "metadata": {},
   "outputs": [],
   "source": []
  }
 ],
 "metadata": {
  "kernelspec": {
   "display_name": "Python 3 (ipykernel)",
   "language": "python",
   "name": "python3"
  },
  "language_info": {
   "codemirror_mode": {
    "name": "ipython",
    "version": 3
   },
   "file_extension": ".py",
   "mimetype": "text/x-python",
   "name": "python",
   "nbconvert_exporter": "python",
   "pygments_lexer": "ipython3",
   "version": "3.10.11"
  }
 },
 "nbformat": 4,
 "nbformat_minor": 5
}
